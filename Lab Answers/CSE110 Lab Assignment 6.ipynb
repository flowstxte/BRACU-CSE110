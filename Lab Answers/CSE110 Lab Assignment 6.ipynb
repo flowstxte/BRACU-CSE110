{
  "nbformat": 4,
  "nbformat_minor": 0,
  "metadata": {
    "colab": {
      "provenance": []
    },
    "kernelspec": {
      "name": "python3",
      "display_name": "Python 3"
    },
    "language_info": {
      "name": "python"
    }
  },
  "cells": [
    {
      "cell_type": "markdown",
      "source": [
        "#Task 1"
      ],
      "metadata": {
        "id": "PjxpxSMRTOed"
      }
    },
    {
      "cell_type": "code",
      "source": [
        "a_tuple = (\"The Institute\", (\"Best Mystery & Thriller\", \"The Silent Patient\", 68821), 75717, [1, 2, 3, 400, 5, 6, 7], (\"Best Fiction\", \"The Testaments\", 98291))\n",
        "print(a_tuple[3][3])"
      ],
      "metadata": {
        "colab": {
          "base_uri": "https://localhost:8080/"
        },
        "id": "nkqZvzd1TY9W",
        "outputId": "18873b39-6b8c-4b43-d6ab-ee8e9900b35c"
      },
      "execution_count": null,
      "outputs": [
        {
          "output_type": "stream",
          "name": "stdout",
          "text": [
            "400\n"
          ]
        }
      ]
    },
    {
      "cell_type": "markdown",
      "source": [
        "#Task 2"
      ],
      "metadata": {
        "id": "pkcE3v9WTunO"
      }
    },
    {
      "cell_type": "code",
      "source": [
        "tup = (-10, 20, 25, 30, 40)\n",
        "if len(tup)<4:\n",
        "  print('Not Possible')\n",
        "else:\n",
        "  print(tup[2:-2])"
      ],
      "metadata": {
        "colab": {
          "base_uri": "https://localhost:8080/"
        },
        "id": "bIRkMRxATvn_",
        "outputId": "47294c0d-b0cf-497b-e6a8-f103e8981b91"
      },
      "execution_count": null,
      "outputs": [
        {
          "output_type": "stream",
          "name": "stdout",
          "text": [
            "(25,)\n"
          ]
        }
      ]
    },
    {
      "cell_type": "markdown",
      "source": [
        "#Task 3"
      ],
      "metadata": {
        "id": "W9rIQlqxUEHU"
      }
    },
    {
      "cell_type": "code",
      "source": [
        "book_info = (\n",
        "(\"Best Mystery & Thriller\",\"The Silent Patient\",68,821),\n",
        "(\"Best Horror\",\"The Institute\",75,717),\n",
        "(\"Best History & Biography\",\"The five\",31,783 ),\n",
        "(\"Best Fiction\",\"The Testaments\",98,291)\n",
        ")\n",
        "print('Size of the tuple is:',len(book_info))\n",
        "for i in book_info:\n",
        "  print(i)"
      ],
      "metadata": {
        "colab": {
          "base_uri": "https://localhost:8080/"
        },
        "id": "5IzE7UhoUFsg",
        "outputId": "1e0def74-7eb0-48f8-883f-7e48e030a21d"
      },
      "execution_count": null,
      "outputs": [
        {
          "output_type": "stream",
          "name": "stdout",
          "text": [
            "Size of the tuple is: 4\n",
            "('Best Mystery & Thriller', 'The Silent Patient', 68, 821)\n",
            "('Best Horror', 'The Institute', 75, 717)\n",
            "('Best History & Biography', 'The five', 31, 783)\n",
            "('Best Fiction', 'The Testaments', 98, 291)\n"
          ]
        }
      ]
    },
    {
      "cell_type": "markdown",
      "source": [
        "#Task 4"
      ],
      "metadata": {
        "id": "d1GotmzAUsRS"
      }
    },
    {
      "cell_type": "code",
      "source": [
        "book_info = (\n",
        "(\"Best Mystery & Thriller\",\"The Silent Patient\",68821),\n",
        "(\"Best Horror\",\"The Institute\",75717),\n",
        "(\"Best History & Biography\",\"The five\",31783 ),\n",
        "(\"Best Fiction\",\"The Testaments\",98291)\n",
        ")\n",
        "for i in book_info:\n",
        "  category, book, vote = i\n",
        "  print(f\"{book} won the '{category}' category with {vote} votes\")"
      ],
      "metadata": {
        "colab": {
          "base_uri": "https://localhost:8080/"
        },
        "id": "vrJQRwL8UtqI",
        "outputId": "c4aab5ee-0c5f-4570-d9e7-12c682e8b5af"
      },
      "execution_count": null,
      "outputs": [
        {
          "output_type": "stream",
          "name": "stdout",
          "text": [
            "The Silent Patient won the 'Best Mystery & Thriller' category with 68821 votes\n",
            "The Institute won the 'Best Horror' category with 75717 votes\n",
            "The five won the 'Best History & Biography' category with 31783 votes\n",
            "The Testaments won the 'Best Fiction' category with 98291 votes\n"
          ]
        }
      ]
    },
    {
      "cell_type": "markdown",
      "source": [
        "#Task 5"
      ],
      "metadata": {
        "id": "3OKNIKRyV_yu"
      }
    },
    {
      "cell_type": "code",
      "source": [
        "tup = (10, 8, 5, 2, 10, 15, 10, 8, 5, 8, 8, 2)\n",
        "num = int(input(\"Enter a number: \"))\n",
        "c = 0\n",
        "for i in tup:\n",
        "  if i==num:\n",
        "    c += 1\n",
        "print(f'{num} appears {c} times in the tuple')"
      ],
      "metadata": {
        "colab": {
          "base_uri": "https://localhost:8080/"
        },
        "id": "cp98BiM9WBD4",
        "outputId": "0e394318-f045-43ab-9fad-9c6ee838ba05"
      },
      "execution_count": null,
      "outputs": [
        {
          "output_type": "stream",
          "name": "stdout",
          "text": [
            "Enter a number: 8\n",
            "8 appears 4 times in the tuple\n"
          ]
        }
      ]
    },
    {
      "cell_type": "markdown",
      "source": [
        "#Task 6"
      ],
      "metadata": {
        "id": "Jj425HwIXAdQ"
      }
    },
    {
      "cell_type": "code",
      "source": [
        "tup = (10, 20, 30, 40, 50, 60)\n",
        "lst = list(tup)\n",
        "lst.reverse()\n",
        "print(tuple(lst))"
      ],
      "metadata": {
        "colab": {
          "base_uri": "https://localhost:8080/"
        },
        "id": "APkFj55SXCdB",
        "outputId": "96d40651-0af5-4436-c9ff-331e65c6e7da"
      },
      "execution_count": null,
      "outputs": [
        {
          "output_type": "stream",
          "name": "stdout",
          "text": [
            "(60, 50, 40, 30, 20, 10)\n"
          ]
        }
      ]
    },
    {
      "cell_type": "code",
      "source": [
        "tup = (10, 20, 30, 40, 50, 60)\n",
        "lst = list(tup)\n",
        "lst2=[]\n",
        "for i in lst:\n",
        "  lst2=[i]+lst2\n",
        "print(tuple(lst2))"
      ],
      "metadata": {
        "colab": {
          "base_uri": "https://localhost:8080/"
        },
        "id": "CUbMPi77JniE",
        "outputId": "9a3c7cc0-615e-4242-b4ef-720bf4a878a3"
      },
      "execution_count": null,
      "outputs": [
        {
          "output_type": "stream",
          "name": "stdout",
          "text": [
            "(60, 50, 40, 30, 20, 10)\n"
          ]
        }
      ]
    },
    {
      "cell_type": "markdown",
      "source": [
        "#Task 7"
      ],
      "metadata": {
        "id": "mo6DwkC595a_"
      }
    },
    {
      "cell_type": "code",
      "source": [
        "d1 = {'Harry':15, 'Draco':8, 'Nevil':19}\n",
        "d2 = {'Ginie':18, 'Luna': 14}\n",
        "d3 = {}\n",
        "for key, value in d1.items():\n",
        "  d3[key] = value\n",
        "for key, value in d2.items():\n",
        "  d3[key] = value\n",
        "print(d3)"
      ],
      "metadata": {
        "colab": {
          "base_uri": "https://localhost:8080/"
        },
        "id": "dGzdXu74Sj2U",
        "outputId": "b1e331b2-fa9a-41ca-be4c-279002d44ff2"
      },
      "execution_count": null,
      "outputs": [
        {
          "output_type": "stream",
          "name": "stdout",
          "text": [
            "{'Harry': 15, 'Draco': 8, 'Nevil': 19, 'Ginie': 18, 'Luna': 14}\n"
          ]
        }
      ]
    },
    {
      "cell_type": "code",
      "source": [
        "d1 = {'Harry':15, 'Draco':8, 'Nevil':19}\n",
        "d2 = {'Ginie':18, 'Luna': 14}\n",
        "d3 = d1\n",
        "d3.update(d2)\n",
        "print(d3)"
      ],
      "metadata": {
        "colab": {
          "base_uri": "https://localhost:8080/"
        },
        "id": "QWC7TsMz97xP",
        "outputId": "1279bcd5-4541-43fc-bd4d-89a35111d060"
      },
      "execution_count": null,
      "outputs": [
        {
          "output_type": "stream",
          "name": "stdout",
          "text": [
            "{'Harry': 15, 'Draco': 8, 'Nevil': 19, 'Ginie': 18, 'Luna': 14}\n"
          ]
        }
      ]
    },
    {
      "cell_type": "markdown",
      "source": [
        "#Task 8"
      ],
      "metadata": {
        "id": "1pzr4QQFF_nD"
      }
    },
    {
      "cell_type": "code",
      "source": [
        "l=[i for i in input('Enter a dictionary: ').split(', ')]\n",
        "d={}\n",
        "for i in l:\n",
        "  x=i.split(':')\n",
        "  key=x[0]\n",
        "  value=int(x[1])\n",
        "  d[key]=value\n",
        "sum=0\n",
        "for i,j in d.items():\n",
        "  sum+=j\n",
        "print('Average is',int(sum/len(d)))"
      ],
      "metadata": {
        "colab": {
          "base_uri": "https://localhost:8080/"
        },
        "id": "MN2y5jfBHajb",
        "outputId": "b7ea5533-cb61-49e8-8dde-de733125bd45"
      },
      "execution_count": null,
      "outputs": [
        {
          "output_type": "stream",
          "name": "stdout",
          "text": [
            "Enter a dictionary: Jon:100, Dan:200, Rob:300\n",
            "Average is 200\n"
          ]
        }
      ]
    },
    {
      "cell_type": "code",
      "source": [
        "d = {'Jon': 100, 'Dan': 200, 'Rob': 30, 'Ned': 110}\n",
        "c = 0\n",
        "s = 0\n",
        "for val in d.values():\n",
        "  s+=val\n",
        "  c+=1\n",
        "print(f'Average is {int(s/c)}.')"
      ],
      "metadata": {
        "colab": {
          "base_uri": "https://localhost:8080/"
        },
        "id": "r3fw00C5GBDs",
        "outputId": "3d647b31-c3b7-49c0-d4d4-4793bf9c42fd"
      },
      "execution_count": null,
      "outputs": [
        {
          "output_type": "stream",
          "name": "stdout",
          "text": [
            "Average is 110.\n"
          ]
        }
      ]
    },
    {
      "cell_type": "markdown",
      "source": [
        "#Task 9"
      ],
      "metadata": {
        "id": "nL74fIsuLDoI"
      }
    },
    {
      "cell_type": "code",
      "source": [
        "exam_marks = {'Cierra Vega': 175, 'Alden Cantrell': 200, 'Kierra Gentry': 165, 'Pierre Cox': 190}\n",
        "num = int(input(\"Enter a number: \"))\n",
        "d = {}\n",
        "for key, val in exam_marks.items():\n",
        "  if val>=num:\n",
        "    d[key] = val\n",
        "print(d)"
      ],
      "metadata": {
        "colab": {
          "base_uri": "https://localhost:8080/"
        },
        "id": "_0mwFcrkTPmU",
        "outputId": "442c8547-98b9-4204-ed9f-f466c6155af5"
      },
      "execution_count": null,
      "outputs": [
        {
          "output_type": "stream",
          "name": "stdout",
          "text": [
            "Enter a number: 170\n",
            "{'Cierra Vega': 175, 'Alden Cantrell': 200, 'Pierre Cox': 190}\n"
          ]
        }
      ]
    },
    {
      "cell_type": "code",
      "source": [
        "exam_marks = {'Cierra Vega': 175, 'Alden Cantrell': 200, 'Kierra Gentry': 165, 'Pierre Cox': 190}\n",
        "num = int(input(\"Enter a number: \"))\n",
        "d = {}\n",
        "for key, val in exam_marks.items():\n",
        "  if val>=num:\n",
        "    d.update({key: val})\n",
        "print(d)"
      ],
      "metadata": {
        "id": "ygssoA4ZWav0",
        "colab": {
          "base_uri": "https://localhost:8080/"
        },
        "outputId": "a78c79a3-3bca-49dc-f243-ef44f879442a"
      },
      "execution_count": null,
      "outputs": [
        {
          "output_type": "stream",
          "name": "stdout",
          "text": [
            "Enter a number: 190\n",
            "{'Alden Cantrell': 200, 'Pierre Cox': 190}\n"
          ]
        }
      ]
    },
    {
      "cell_type": "markdown",
      "source": [
        "#Task 10"
      ],
      "metadata": {
        "id": "lsLwHgLSRJTm"
      }
    },
    {
      "cell_type": "code",
      "source": [
        "d = {'sci fi': 12, 'mystery': 15, 'horror': 8, 'mythology': 10, 'young_adult': 4, 'adventure':14}\n",
        "max = 0\n",
        "for i in d.values():\n",
        "  max = i\n",
        "  break\n",
        "for key, val in d.items():\n",
        "  if val>max:\n",
        "    max = val\n",
        "    genre = key\n",
        "print(f\"The highest selling book genre is '{genre}' and the number of books sold are {max}.\")"
      ],
      "metadata": {
        "colab": {
          "base_uri": "https://localhost:8080/"
        },
        "id": "uD_m_xrJRLUz",
        "outputId": "d4cd58b4-842d-4a19-b79f-08ba4155541d"
      },
      "execution_count": null,
      "outputs": [
        {
          "output_type": "stream",
          "name": "stdout",
          "text": [
            "The highest selling book genre is 'mystery' and the number of books sold are 15.\n"
          ]
        }
      ]
    },
    {
      "cell_type": "markdown",
      "source": [
        "#Task 11"
      ],
      "metadata": {
        "id": "4k8ZXta7jVXY"
      }
    },
    {
      "cell_type": "code",
      "source": [
        "s=input(\"Enter a string: \").lower()\n",
        "d={}\n",
        "for i in s:\n",
        "  if i!=' ':\n",
        "    if i not in d:\n",
        "      d[i]=1\n",
        "    else:\n",
        "      d[i]+=1\n",
        "print(d)"
      ],
      "metadata": {
        "colab": {
          "base_uri": "https://localhost:8080/"
        },
        "id": "UxH4bv3-8qLW",
        "outputId": "5694ace3-273e-41e7-9416-5c1007d7f99e"
      },
      "execution_count": null,
      "outputs": [
        {
          "output_type": "stream",
          "name": "stdout",
          "text": [
            "Enter a string: Python programming is fun\n",
            "{'p': 2, 'y': 1, 't': 1, 'h': 1, 'o': 2, 'n': 3, 'r': 2, 'g': 2, 'a': 1, 'm': 2, 'i': 2, 's': 1, 'f': 1, 'u': 1}\n"
          ]
        }
      ]
    },
    {
      "cell_type": "code",
      "source": [
        "s = input(\"Enter a string: \")\n",
        "x = ''\n",
        "for i in s:\n",
        "  if ord(\"A\")<=ord(i)<=ord(\"Z\"):\n",
        "    x+=chr(ord(i)+32)\n",
        "  else:\n",
        "    x+=i\n",
        "d = {}\n",
        "c = 0\n",
        "for i in x:\n",
        "  if i!=' ':\n",
        "    for j in x:\n",
        "      if i==j:\n",
        "        c+=1\n",
        "    d.update({i: c\n",
        "              })\n",
        "    c=0\n",
        "print(d)"
      ],
      "metadata": {
        "colab": {
          "base_uri": "https://localhost:8080/"
        },
        "id": "9ScV_7RBVIv3",
        "outputId": "674297af-2397-4063-927e-f1456e0dbfff"
      },
      "execution_count": null,
      "outputs": [
        {
          "output_type": "stream",
          "name": "stdout",
          "text": [
            "Enter a string: Python programming is fun\n",
            "{'p': 2, 'y': 1, 't': 1, 'h': 1, 'o': 2, 'n': 3, 'r': 2, 'g': 2, 'a': 1, 'm': 2, 'i': 2, 's': 1, 'f': 1, 'u': 1}\n"
          ]
        }
      ]
    },
    {
      "cell_type": "markdown",
      "source": [
        "#Task 12"
      ],
      "metadata": {
        "id": "-oAjeSDLjlHT"
      }
    },
    {
      "cell_type": "code",
      "source": [
        "dict_1 = {'A': [1, 2, 3], 'b': ['1', '2'], \"c\": [4, 5, 6, 7]}\n",
        "sum = 0\n",
        "for i in dict_1.values():\n",
        "  for j in i:\n",
        "    sum+=1\n",
        "print(sum)"
      ],
      "metadata": {
        "colab": {
          "base_uri": "https://localhost:8080/"
        },
        "id": "TvL8DwNrjmRz",
        "outputId": "01d97303-5a0e-4515-c720-d06c7eee3ee6"
      },
      "execution_count": null,
      "outputs": [
        {
          "output_type": "stream",
          "name": "stdout",
          "text": [
            "9\n"
          ]
        }
      ]
    },
    {
      "cell_type": "markdown",
      "source": [
        "#Task 13"
      ],
      "metadata": {
        "id": "dO1CCc8XlxjV"
      }
    },
    {
      "cell_type": "code",
      "source": [
        "list_1 = [(\"a\", 1), (\"b\", 2), (\"a\", 3), (\"b\", 1), (\"a\", 2), (\"c\", 1)]\n",
        "d = {}\n",
        "for i in list_1:\n",
        "  s, n = i\n",
        "  if s not in d:\n",
        "    d[s]=[n]\n",
        "  else:\n",
        "    d[s].append(n)\n",
        "print(d)"
      ],
      "metadata": {
        "colab": {
          "base_uri": "https://localhost:8080/"
        },
        "id": "g0WK_P0BkH7X",
        "outputId": "0ceb6578-bd2b-4518-bac2-37332b66b4ae"
      },
      "execution_count": null,
      "outputs": [
        {
          "output_type": "stream",
          "name": "stdout",
          "text": [
            "{'a': [1, 3, 2], 'b': [2, 1], 'c': [1]}\n"
          ]
        }
      ]
    },
    {
      "cell_type": "markdown",
      "source": [
        "#Task 14 (Tracing)"
      ],
      "metadata": {
        "id": "47ywDQMb1udk"
      }
    },
    {
      "cell_type": "code",
      "source": [
        "dict1 = {'a':59 , 'b':-82 , 'c':5 , 'd':-81 , 'e':53}\n",
        "for i in dict1:\n",
        "    j = 0\n",
        "    k = 22\n",
        "    while j < 5:\n",
        "        if j % 2 == 0:\n",
        "            k = dict1[i] + j - (8 + k % 6) / 3\n",
        "            dict1[i] = dict1[i]+ int(k)\n",
        "        else:\n",
        "            k = dict1[i] + j - (6 - k % 8) * 3\n",
        "            dict1[i] = dict1[i] - int(k)\n",
        "        j += 1\n",
        "    print(int(k))\n",
        "    print(i + \" -> \" + str(dict1[i]))"
      ],
      "metadata": {
        "colab": {
          "base_uri": "https://localhost:8080/"
        },
        "id": "Q4c8MhC21yAB",
        "outputId": "be904323-6a20-4dec-aa50-2a7847a74dd1"
      },
      "execution_count": null,
      "outputs": [
        {
          "output_type": "stream",
          "name": "stdout",
          "text": [
            "8\n",
            "a -> 17\n",
            "10\n",
            "b -> 19\n",
            "2\n",
            "c -> 5\n",
            "-7\n",
            "d -> -14\n",
            "2\n",
            "e -> 5\n"
          ]
        }
      ]
    },
    {
      "cell_type": "markdown",
      "source": [
        "#Task 15 (Ungraded)"
      ],
      "metadata": {
        "id": "41tdCl9QKni-"
      }
    },
    {
      "cell_type": "code",
      "source": [
        "l1 = [(2, 3), (4, 5), (6, 7), (2, 8)]\n",
        "l2 = []\n",
        "for i in l1:\n",
        "  a,b=i\n",
        "  l2.append(a*b)\n",
        "print(l2)"
      ],
      "metadata": {
        "colab": {
          "base_uri": "https://localhost:8080/"
        },
        "id": "bTCgnYCZKrhR",
        "outputId": "e1293f3a-e134-493f-ea3b-9eb12ea99e87"
      },
      "execution_count": null,
      "outputs": [
        {
          "output_type": "stream",
          "name": "stdout",
          "text": [
            "[6, 20, 42, 16]\n"
          ]
        }
      ]
    },
    {
      "cell_type": "markdown",
      "source": [
        "#Task 16 (Ungraded)"
      ],
      "metadata": {
        "id": "XW6NyafiLj81"
      }
    },
    {
      "cell_type": "code",
      "source": [
        "a_tuple = ( [1, 2, 3], [4, 5, 6], [7, 8, 9], [10, 11, 12])\n",
        "s = input()\n",
        "l = []\n",
        "for i in a_tuple:\n",
        "  i[2]=s\n",
        "  l.append(i)\n",
        "print(tuple(l))"
      ],
      "metadata": {
        "colab": {
          "base_uri": "https://localhost:8080/"
        },
        "id": "JN_PtWsILmF-",
        "outputId": "c01002e9-b114-43b1-f2b9-1d2ea021875e"
      },
      "execution_count": null,
      "outputs": [
        {
          "output_type": "stream",
          "name": "stdout",
          "text": [
            "abc\n",
            "([1, 2, 'abc'], [4, 5, 'abc'], [7, 8, 'abc'], [10, 11, 'abc'])\n"
          ]
        }
      ]
    },
    {
      "cell_type": "markdown",
      "source": [
        "#Task 17 (Ungraded)"
      ],
      "metadata": {
        "id": "nMffvWd5N5EO"
      }
    },
    {
      "cell_type": "code",
      "source": [
        "my_dictionary = {'c1':'Red', 'c2':'Green', 'c3':None, 'd4':'Blue', 'a5':None}\n",
        "d = {}\n",
        "for key, val in my_dictionary.items():\n",
        "  if val!=None:\n",
        "    d[key]=val\n",
        "print(d)"
      ],
      "metadata": {
        "colab": {
          "base_uri": "https://localhost:8080/"
        },
        "id": "ZB-nXMVoN7Mi",
        "outputId": "824a9573-1745-4355-dfc5-c2aea0afc7f3"
      },
      "execution_count": null,
      "outputs": [
        {
          "output_type": "stream",
          "name": "stdout",
          "text": [
            "{'c1': 'Red', 'c2': 'Green', 'd4': 'Blue'}\n"
          ]
        }
      ]
    },
    {
      "cell_type": "markdown",
      "source": [
        "#Task 18 (Ungraded)"
      ],
      "metadata": {
        "id": "D8aSgnxUQFFV"
      }
    },
    {
      "cell_type": "code",
      "source": [
        "d1 = {'a' : 6, 'b' : 7, 'c' : 9,\n",
        "      'd' : 8, 'e' : 11, 'f' : 12, 'g' : 13}\n",
        "s = input(\"Enter two number seperated by a comma and space: \")\n",
        "s = s.split(', ')\n",
        "l = []\n",
        "for i in s:\n",
        "  l.append(int(i))\n",
        "lw = l[0]\n",
        "up = l[1]\n",
        "d2={}\n",
        "for key, val in d1.items():\n",
        "  if lw<=val<up:\n",
        "    d2[key]=val\n",
        "print(d2)"
      ],
      "metadata": {
        "id": "-NE2nhe5QGr1",
        "colab": {
          "base_uri": "https://localhost:8080/"
        },
        "outputId": "a77fc7fa-282b-44a4-974b-970f0f5fdb9e"
      },
      "execution_count": null,
      "outputs": [
        {
          "output_type": "stream",
          "name": "stdout",
          "text": [
            "Enter two number seperated by a comma and space: 14, 18\n",
            "{}\n"
          ]
        }
      ]
    },
    {
      "cell_type": "markdown",
      "source": [
        "#Task 19 (Ungraded)"
      ],
      "metadata": {
        "id": "ya8mg9yZKvCw"
      }
    },
    {
      "cell_type": "code",
      "source": [
        "l = [(20, 80), (31, 80), (1, 22), (88, 11), (27, 11)]\n",
        "d={}\n",
        "for i in l:\n",
        "  x,y=i\n",
        "  if y not in d:\n",
        "    d[y]=[i]\n",
        "  else:\n",
        "    d[y].append(i)\n",
        "print(d)"
      ],
      "metadata": {
        "colab": {
          "base_uri": "https://localhost:8080/"
        },
        "id": "ZAOXz0h4mWyW",
        "outputId": "db19fa39-c050-4595-c673-fbc01faa8d14"
      },
      "execution_count": null,
      "outputs": [
        {
          "output_type": "stream",
          "name": "stdout",
          "text": [
            "{80: [(20, 80), (31, 80)], 22: [(1, 22)], 11: [(88, 11), (27, 11)]}\n"
          ]
        }
      ]
    },
    {
      "cell_type": "markdown",
      "source": [
        "#Task 20 (Ungraded)"
      ],
      "metadata": {
        "id": "rBWmztR_M-hb"
      }
    },
    {
      "cell_type": "code",
      "source": [
        "s=input('String: ')\n",
        "t=''\n",
        "for i in s:\n",
        "  if i!='.':\n",
        "    t+=i\n",
        "t=t.split(' ')\n",
        "s1=input('List of characters: ')[1:-1]\n",
        "s2=''\n",
        "for i in s1:\n",
        "  if i!=\"'\":\n",
        "    s2+=i\n",
        "l=[i for i in s2.split(', ')]\n",
        "print('Words in the given String:',t)\n",
        "l2=[]\n",
        "for i in t:\n",
        "  if i not in l2:\n",
        "    l2.append(i)\n",
        "d={}\n",
        "sum=0\n",
        "for i in l2:\n",
        "  for j in i:\n",
        "    sum+=ord(j)\n",
        "  x=sum%len(l)\n",
        "  if l[x] not in d:\n",
        "    d[l[x]]=[i]\n",
        "  else:\n",
        "    d[l[x]].append(i)\n",
        "  sum=0\n",
        "print('Answer:',d)"
      ],
      "metadata": {
        "colab": {
          "base_uri": "https://localhost:8080/"
        },
        "id": "4PEVHp_b_EUx",
        "outputId": "23f12dd6-be2f-47c4-cf63-3ea6db99de6f"
      },
      "execution_count": null,
      "outputs": [
        {
          "output_type": "stream",
          "name": "stdout",
          "text": [
            "String: The secret of getting ahead is getting started.\n",
            "List of characters: ['-', '=', '+', '*', '%']\n",
            "Words in the given String: ['The', 'secret', 'of', 'getting', 'ahead', 'is', 'getting', 'started']\n",
            "Answer: {'%': ['The', 'getting', 'ahead', 'started'], '=': ['secret'], '*': ['of'], '-': ['is']}\n"
          ]
        }
      ]
    }
  ]
}